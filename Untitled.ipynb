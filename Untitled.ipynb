{
 "cells": [
  {
   "cell_type": "code",
   "execution_count": 1,
   "id": "d80b59d1-f2d5-4e41-8209-9aef8e5a273c",
   "metadata": {},
   "outputs": [],
   "source": [
    "import csv\n",
    "import functools\n",
    "import os\n",
    "import numpy as np\n",
    "import glob"
   ]
  },
  {
   "cell_type": "code",
   "execution_count": 1,
   "id": "79092551-25d2-4781-93bd-36fd3d60002c",
   "metadata": {},
   "outputs": [],
   "source": [
    "from dsets import getCandidateInfoList, Ct, LunaDataset"
   ]
  },
  {
   "cell_type": "code",
   "execution_count": 11,
   "id": "f2476c2b-5063-42e0-bf4e-36a8443b585a",
   "metadata": {},
   "outputs": [
    {
     "name": "stdout",
     "output_type": "stream",
     "text": [
      "   0  27.4 mm\n",
      " 100  21.6 mm\n",
      " 200  17.5 mm\n",
      " 300  14.7 mm\n",
      " 400  11.0 mm\n",
      " 500   9.1 mm\n",
      " 600   7.9 mm\n",
      " 700   6.8 mm\n",
      " 800   6.1 mm\n",
      " 900   5.7 mm\n",
      "1000   5.1 mm\n",
      "1100   4.9 mm\n",
      "1200   4.5 mm\n",
      "1300   3.9 mm\n"
     ]
    }
   ],
   "source": [
    "candidateInfo_list = getCandidateInfoList(requireOnDisk_bool=False)\n",
    "positiveInfo_list = [x for x in candidateInfo_list if x[0]]\n",
    "diameter_list = [x[1] for x in positiveInfo_list]\n",
    "for i in range(0, len(diameter_list), 100):\n",
    "    print('{:4}  {:4.1f} mm'.format(i, diameter_list[i]))"
   ]
  },
  {
   "cell_type": "code",
   "execution_count": null,
   "id": "adb90727-6d77-4fa3-a701-ae8f8587471b",
   "metadata": {},
   "outputs": [],
   "source": []
  }
 ],
 "metadata": {
  "kernelspec": {
   "display_name": "Python 3 (ipykernel)",
   "language": "python",
   "name": "python3"
  },
  "language_info": {
   "codemirror_mode": {
    "name": "ipython",
    "version": 3
   },
   "file_extension": ".py",
   "mimetype": "text/x-python",
   "name": "python",
   "nbconvert_exporter": "python",
   "pygments_lexer": "ipython3",
   "version": "3.12.2"
  }
 },
 "nbformat": 4,
 "nbformat_minor": 5
}

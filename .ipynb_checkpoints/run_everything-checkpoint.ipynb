{
 "cells": [
  {
   "cell_type": "code",
   "execution_count": null,
   "id": "1bd76a20-cc03-407c-9f09-77d258a5e0ec",
   "metadata": {},
   "outputs": [],
   "source": [
    "def run(app, *argv):\n",
    "    argv = list(argv)\n",
    "    argv.insert(0, '--num-workers=4')\n",
    "    log.info(\"Running {}({!r}).main()\".format(app, argv))\n",
    "\n",
    "    app_cls = importstr(*app.rsplit('.', 1))\n",
    "    app_cls(argv).main()\n",
    "\n",
    "    log.info(\"Finished: {}.{!r}.main()\".format(app, argv))"
   ]
  }
 ],
 "metadata": {
  "kernelspec": {
   "display_name": "Python 3 (ipykernel)",
   "language": "python",
   "name": "python3"
  },
  "language_info": {
   "codemirror_mode": {
    "name": "ipython",
    "version": 3
   },
   "file_extension": ".py",
   "mimetype": "text/x-python",
   "name": "python",
   "nbconvert_exporter": "python",
   "pygments_lexer": "ipython3",
   "version": "3.12.2"
  }
 },
 "nbformat": 4,
 "nbformat_minor": 5
}
